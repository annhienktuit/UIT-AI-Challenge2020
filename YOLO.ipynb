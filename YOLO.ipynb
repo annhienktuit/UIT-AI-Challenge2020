{
  "nbformat": 4,
  "nbformat_minor": 0,
  "metadata": {
    "colab": {
      "name": "YOLO.ipynb",
      "provenance": [],
      "collapsed_sections": [],
      "include_colab_link": true
    },
    "kernelspec": {
      "name": "python3",
      "display_name": "Python 3"
    },
    "accelerator": "GPU"
  },
  "cells": [
    {
      "cell_type": "markdown",
      "metadata": {
        "id": "view-in-github",
        "colab_type": "text"
      },
      "source": [
        "<a href=\"https://colab.research.google.com/github/annhienktuit/UIT-AI-Challenge2020/blob/master/YOLO.ipynb\" target=\"_parent\"><img src=\"https://colab.research.google.com/assets/colab-badge.svg\" alt=\"Open In Colab\"/></a>"
      ]
    },
    {
      "cell_type": "markdown",
      "metadata": {
        "id": "_alhvVEGy3D1",
        "colab_type": "text"
      },
      "source": [
        "Xây dựng bộ phát hiện đối tượng với thuật toán YOLOv3 được viết bằng thư viện Keras. Thư viện này bao gồm đầy đủ các module: phát hiện đối tượng với pre-trainded model, huấn luyện lại mô hình, phát hiện đối tượng ảnh trên ảnh/video/webcam.\n",
        "\n",
        "Đầu tiên, ta sẽ khởi tạo Google Colab với sử dụng 1 GPU. Sau đó thực hiện kết nối với Google Drive của tài khoản cá nhân như sau:"
      ]
    },
    {
      "cell_type": "code",
      "metadata": {
        "id": "J2zzYmnoEw_j",
        "colab_type": "code",
        "colab": {
          "base_uri": "https://localhost:8080/",
          "height": 357
        },
        "outputId": "1302ec7f-ae2f-4f66-ab96-9dc94565aa62"
      },
      "source": [
        "!nvidia-smi"
      ],
      "execution_count": null,
      "outputs": [
        {
          "output_type": "stream",
          "text": [
            "Fri Jul 31 04:13:30 2020       \n",
            "+-----------------------------------------------------------------------------+\n",
            "| NVIDIA-SMI 450.51.05    Driver Version: 418.67       CUDA Version: 10.1     |\n",
            "|-------------------------------+----------------------+----------------------+\n",
            "| GPU  Name        Persistence-M| Bus-Id        Disp.A | Volatile Uncorr. ECC |\n",
            "| Fan  Temp  Perf  Pwr:Usage/Cap|         Memory-Usage | GPU-Util  Compute M. |\n",
            "|                               |                      |               MIG M. |\n",
            "|===============================+======================+======================|\n",
            "|   0  Tesla T4            Off  | 00000000:00:04.0 Off |                    0 |\n",
            "| N/A   35C    P8     9W /  70W |      0MiB / 15079MiB |      0%      Default |\n",
            "|                               |                      |                 ERR! |\n",
            "+-------------------------------+----------------------+----------------------+\n",
            "                                                                               \n",
            "+-----------------------------------------------------------------------------+\n",
            "| Processes:                                                                  |\n",
            "|  GPU   GI   CI        PID   Type   Process name                  GPU Memory |\n",
            "|        ID   ID                                                   Usage      |\n",
            "|=============================================================================|\n",
            "|  No running processes found                                                 |\n",
            "+-----------------------------------------------------------------------------+\n"
          ],
          "name": "stdout"
        }
      ]
    },
    {
      "cell_type": "code",
      "metadata": {
        "id": "tWYdIEs4GvaZ",
        "colab_type": "code",
        "colab": {}
      },
      "source": [
        "from google.colab import drive\n",
        "drive.mount('/content/gdrive')\n",
        "lab_path = \"/content/gdrive/My\\ Drive/AdvancedComputerVision/keras-yolo3\""
      ],
      "execution_count": null,
      "outputs": []
    },
    {
      "cell_type": "markdown",
      "metadata": {
        "id": "Ey3bs8vR3NPn",
        "colab_type": "text"
      },
      "source": [
        "Sau đó, sử dụng git để clone thư mục project từ github của tác giả experiencor với đường dẫn như sau. Lưu ý rằng, ta nên đặt thực project kế bên file jupyter notebook này để tiện thao tác."
      ]
    },
    {
      "cell_type": "code",
      "metadata": {
        "id": "N_PW5hu4IdXk",
        "colab_type": "code",
        "colab": {}
      },
      "source": [
        "!git clone https://github.com/experiencor/keras-yolo3.git $lab_path"
      ],
      "execution_count": null,
      "outputs": []
    },
    {
      "cell_type": "markdown",
      "metadata": {
        "id": "0Ppso2Gj3vnV",
        "colab_type": "text"
      },
      "source": [
        "Sau đó tiến hành cài đặt các thư viện cần thiết để có thể sử dụng được keras-yolo3. Đây là bước thực hiện quan trọng vì thông thường các thư viện sẽ sử dụng các thư viện bên thứ 3 với các phiên bản cố định. Do đó, để đảm bảo thư viện keras-yolo3 sử dụng trơn tru thì ta sẽ cài đặt các thư viện kèm theo trong file requirements.txt."
      ]
    },
    {
      "cell_type": "code",
      "metadata": {
        "id": "VjQWjajkJBSX",
        "colab_type": "code",
        "colab": {}
      },
      "source": [
        "!pip install -r $lab_path/requirements.txt"
      ],
      "execution_count": null,
      "outputs": []
    },
    {
      "cell_type": "markdown",
      "metadata": {
        "id": "N3eT3bTp56Hd",
        "colab_type": "text"
      },
      "source": [
        "## 1. Thử nghiệm với pretrained model của tác giả thuật toán YOLO.\n",
        "\n",
        "File mô hình huấn luyện sẵn được đặt ở đường dẫn sau https://pjreddie.com/media/files/yolov3.weights\n",
        "Lưu ý là file mô hình cần được đặt trong thư mục gốc của thư viện để tiện cho việc thực hiện."
      ]
    },
    {
      "cell_type": "code",
      "metadata": {
        "id": "JLTQkJH1JR-G",
        "colab_type": "code",
        "colab": {}
      },
      "source": [
        "!wget https://pjreddie.com/media/files/yolov3.weights -O $lab_path/yolov3.weights"
      ],
      "execution_count": null,
      "outputs": []
    },
    {
      "cell_type": "markdown",
      "metadata": {
        "id": "CDDqM_Xj6Xej",
        "colab_type": "text"
      },
      "source": [
        "Sau đó, ta tiến hành sử dụng pretrained model để phát hiện đối tượng trong ảnh cho trước. Sử dụng chương trình yolo3_one_file_to_detect_them_all.py với file mô hình đã download ở file trước đó để phát hiện các đối tượng trong ảnh. Tập dữ liệu các đối tượng phát hiện được lấy từ tập PASCAL VOC 2012.\n",
        "\n",
        "Ảnh kết quả phát hiện đối tượng trên pretrained model cho tập dữ liệu này được minh hoạ như ở hình sau:\n",
        "\n",
        "![alt text](https://i.imgur.com/6nun5fl.jpg)"
      ]
    },
    {
      "cell_type": "code",
      "metadata": {
        "id": "mwIOz_bfJjgQ",
        "colab_type": "code",
        "colab": {}
      },
      "source": [
        "!python $lab_path/yolo3_one_file_to_detect_them_all.py -w $lab_path/yolov3.weights -i $lab_path/dog-tales-img.jpg"
      ],
      "execution_count": null,
      "outputs": []
    },
    {
      "cell_type": "markdown",
      "metadata": {
        "id": "190SzOsZ7LUG",
        "colab_type": "text"
      },
      "source": [
        "#2. Huấn luyện dữ liệu với keras-yolo3\n",
        "\n",
        "![alt text](https://i.imgur.com/45SRniL.jpg)\n",
        "\n",
        "Bước tiếp theo, ta sẽ tiến hành huấn luyện trên tập dữ liệu mới là gấu mèo (raccoon). Tập dữ liệu này được tải từ https://github.com/experiencor/raccoon_dataset.git\n",
        "\n",
        "Lưu ý rằng, ta sẽ chỉ sử dụng 2 thư mục của github này là images và annotations. Trong đó,\n",
        "\n",
        "*   images: thư mục chứa các ảnh về gấu mèo\n",
        "*   annotations: tương ứng với từng file ảnh của thư mục images, ta có một file .xml chứa thông tin về vị trí chính xác của đối tượng (gấu mèo) trong ảnh.\n",
        "\n",
        "Các bạn nên xem kỹ định dạng của các file XML này để biết cấu trúc file gán nhãn phục vụ cho việc thực hiện đồ án sau này.\n",
        "\n"
      ]
    },
    {
      "cell_type": "code",
      "metadata": {
        "id": "uuTscS1_eRge",
        "colab_type": "code",
        "colab": {}
      },
      "source": [
        "!git clone https://github.com/experiencor/raccoon_dataset.git $lab_path/raccoon_dataset"
      ],
      "execution_count": null,
      "outputs": []
    },
    {
      "cell_type": "markdown",
      "metadata": {
        "id": "dIgrFV1B_gyo",
        "colab_type": "text"
      },
      "source": [
        "Một file khác cũng rất quan trọng của các mô hình huấn luyện học sâu nói chung và YOLO nói riêng là file cấu hình (config) các tham số khi huấn luyện.\n",
        "\n",
        "Trong thư viện này, file config được đặt trong thư mục /zoo. Ví dụ như config_raccoon.json. Các tham số cơ bản của file config như:\n",
        "- Đường dẫn đến thư mục train, validation (mặc định chia tỉ lệ train:validation = 8:2 nếu không có tham số gắn sẵn)\n",
        "- GPU sử dụng để huấn luyện\n",
        "- File pretrained cho tập image net backend.h5\n",
        "- Learning rate\n",
        "- Batch size\n",
        "\n",
        "Sau khi đã cấu hình file config, ta sẽ tiến hành huấn luyện:"
      ]
    },
    {
      "cell_type": "markdown",
      "metadata": {
        "id": "ElBnlnryy3el",
        "colab_type": "text"
      },
      "source": [
        "Để chương trình train có thể chạy được ta phải tải thêm file backend.h5 chứa pretrained model của backbone model và đặt ở thư mục lab_path:\n",
        "https://drive.google.com/file/d/1f3Ylajkfg69iXc5159oJlYsq-9D_Px50/view?usp=sharing"
      ]
    },
    {
      "cell_type": "code",
      "metadata": {
        "id": "Kc2dmMk1rjWn",
        "colab_type": "code",
        "colab": {}
      },
      "source": [
        "!python $lab_path/train.py -c $lab_path/zoo/config_raccoon.json"
      ],
      "execution_count": null,
      "outputs": []
    },
    {
      "cell_type": "markdown",
      "metadata": {
        "id": "185rzO2_B4AK",
        "colab_type": "text"
      },
      "source": [
        "Sau khi quá trình huấn luyện kết thúc, hệ thống sẽ lưu mô hình raccoon.h5 trong thư mục của máy ảo colab. Ta có thể sửa lại mã nguồn của thư viện để các file mô hình và file trung gian đặt trong thư mục của thư viện cho gọn gàng.\n",
        "\n",
        "Sau đó, ta sẽ tiến hành thử nghiệm mô hình đã huấn luyện trên ảnh mẫu lấy từ mạng internet hoặc thư mục ảnh validation/train."
      ]
    },
    {
      "cell_type": "code",
      "metadata": {
        "id": "pNy0y0fstq-2",
        "colab_type": "code",
        "colab": {}
      },
      "source": [
        "!python $lab_path/predict.py -c $lab_path/zoo/config_raccoon.json -i $lab_path/raccoon_dataset/images/raccoon-200.jpg"
      ],
      "execution_count": null,
      "outputs": []
    },
    {
      "cell_type": "markdown",
      "metadata": {
        "id": "NcHPECkzCZb7",
        "colab_type": "text"
      },
      "source": [
        "#3. Train trên bộ dữ liệu giao thông\n",
        "\n",
        "Như vậy, trong phần bài tập này chúng ta đã làm quen với thư viện keras-yolo3. Trong phần đồ án giữa kỳ, ta sẽ tiến hành trên dữ liệu video giao thông được thu tại TP. Hồ Chí Minh. Ví dụ, ảnh sau được cắt tại góc đường Nam Kỳ Khởi Nghĩa - Võ Thị Sáu.\n",
        "\n",
        "![alt text](https://i.imgur.com/NQBeNpG.jpg)\n",
        "\n",
        "Mục tiêu của đồ án này là sử dụng thuật toán YOLOv3 để tiến hành ước lượng lưu lượng giao thông theo các hướng đi.\n",
        "\n",
        "Đầu tiên, ta sẽ thử sử dụng pretrained model lên dữ liệu video thực tế.\n",
        "\n",
        "Sau đó tiến hành xây dựng bộ dữ liệu gán nhãn cho ngữ cảnh camera giao thông.\n",
        "\n",
        "Huấn luyện lại mô hình với dữ liệu gán nhãn mới.\n",
        "\n",
        "Phát hiện và đếm các đối tượng xe máy, xe hơi trong video giao thông.\n",
        "\n",
        "Video test: https://drive.google.com/file/d/1u__2tl79nSevF_pnvwsVd79Hu1aWLJQE/view?usp=sharing\n",
        "\n",
        "Tập ảnh dùng để train: https://drive.google.com/file/d/1-ZT6V2OrIWIWtLFFlizQBVvYxL__QFL7/view?usp=sharing\n",
        "\n"
      ]
    }
  ]
}